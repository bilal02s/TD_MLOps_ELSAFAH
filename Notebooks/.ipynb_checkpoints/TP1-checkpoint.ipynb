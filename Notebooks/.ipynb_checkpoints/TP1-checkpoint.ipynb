{
 "cells": [
  {
   "cell_type": "code",
   "execution_count": 34,
   "id": "f81dfd29",
   "metadata": {},
   "outputs": [],
   "source": [
    "import numpy as np\n",
    "import pandas as pd\n",
    "import matplotlib.pyplot as plt"
   ]
  },
  {
   "cell_type": "code",
   "execution_count": 18,
   "id": "aa5bdfd9",
   "metadata": {},
   "outputs": [
    {
     "data": {
      "text/plain": [
       "Index(['Order Number', 'Order Date', 'Item Name', 'Quantity', 'Product Price',\n",
       "       'Total products'],\n",
       "      dtype='object')"
      ]
     },
     "execution_count": 18,
     "metadata": {},
     "output_type": "execute_result"
    }
   ],
   "source": [
    "DFs = [pd.read_csv(\"../data/restaurant_1_week_002.csv\"),\n",
    "       pd.read_csv(\"../data/restaurant_1_week_007.csv\"),\n",
    "       pd.read_csv(\"../data/restaurant_1_week_032.csv\")]\n",
    "\n",
    "DFs[0].columns"
   ]
  },
  {
   "cell_type": "code",
   "execution_count": 20,
   "id": "e206388a",
   "metadata": {},
   "outputs": [
    {
     "data": {
      "text/plain": [
       "Index(['Order Number', 'Order Date', 'Item Name', 'Quantity', 'Product Price',\n",
       "       'Total products', 'CA'],\n",
       "      dtype='object')"
      ]
     },
     "execution_count": 20,
     "metadata": {},
     "output_type": "execute_result"
    }
   ],
   "source": [
    "#Calculer le chiffre d'affaire pour chaque produit de chaque demande\n",
    "for i in range(len(DFs)):\n",
    "    DFs[i]['CA'] =  DFs[i].apply(lambda row: row['Quantity'] * row['Product Price'], axis=1)\n",
    "    \n",
    "DFs[0].columns"
   ]
  },
  {
   "cell_type": "code",
   "execution_count": 24,
   "id": "523c6e42",
   "metadata": {},
   "outputs": [
    {
     "name": "stdout",
     "output_type": "stream",
     "text": [
      "                        CA\n",
      "Order Date                \n",
      "2015-01-09 14:42:00   3.95\n",
      "2015-01-10 09:54:00  15.85\n",
      "2015-01-10 10:02:00  20.85\n",
      "2015-01-10 10:49:00   9.90\n",
      "2015-01-10 15:19:00  46.65\n",
      "2015-01-10 16:28:00   3.95\n",
      "2015-01-10 16:55:00   3.95\n",
      "2015-01-10 20:12:00   4.45\n",
      "                        CA\n",
      "Order Date                \n",
      "2015-02-10 10:29:00   3.95\n",
      "2015-02-10 14:05:00  25.80\n",
      "2015-02-10 14:38:00  19.65\n",
      "2015-02-10 16:39:00  24.80\n",
      "2015-02-10 17:29:00  43.65\n"
     ]
    },
    {
     "data": {
      "text/html": [
       "<div>\n",
       "<style scoped>\n",
       "    .dataframe tbody tr th:only-of-type {\n",
       "        vertical-align: middle;\n",
       "    }\n",
       "\n",
       "    .dataframe tbody tr th {\n",
       "        vertical-align: top;\n",
       "    }\n",
       "\n",
       "    .dataframe thead th {\n",
       "        text-align: right;\n",
       "    }\n",
       "</style>\n",
       "<table border=\"1\" class=\"dataframe\">\n",
       "  <thead>\n",
       "    <tr style=\"text-align: right;\">\n",
       "      <th></th>\n",
       "      <th>CA</th>\n",
       "      <th>CA</th>\n",
       "    </tr>\n",
       "    <tr>\n",
       "      <th>Order Date</th>\n",
       "      <th></th>\n",
       "      <th></th>\n",
       "    </tr>\n",
       "  </thead>\n",
       "  <tbody>\n",
       "    <tr>\n",
       "      <th>2015-01-09 14:42:00</th>\n",
       "      <td>3.95</td>\n",
       "      <td>NaN</td>\n",
       "    </tr>\n",
       "    <tr>\n",
       "      <th>2015-01-10 09:54:00</th>\n",
       "      <td>15.85</td>\n",
       "      <td>NaN</td>\n",
       "    </tr>\n",
       "    <tr>\n",
       "      <th>2015-01-10 10:02:00</th>\n",
       "      <td>20.85</td>\n",
       "      <td>NaN</td>\n",
       "    </tr>\n",
       "    <tr>\n",
       "      <th>2015-01-10 10:49:00</th>\n",
       "      <td>9.90</td>\n",
       "      <td>NaN</td>\n",
       "    </tr>\n",
       "    <tr>\n",
       "      <th>2015-01-10 15:19:00</th>\n",
       "      <td>46.65</td>\n",
       "      <td>NaN</td>\n",
       "    </tr>\n",
       "    <tr>\n",
       "      <th>2015-01-10 16:28:00</th>\n",
       "      <td>3.95</td>\n",
       "      <td>NaN</td>\n",
       "    </tr>\n",
       "    <tr>\n",
       "      <th>2015-01-10 16:55:00</th>\n",
       "      <td>3.95</td>\n",
       "      <td>NaN</td>\n",
       "    </tr>\n",
       "    <tr>\n",
       "      <th>2015-01-10 20:12:00</th>\n",
       "      <td>4.45</td>\n",
       "      <td>NaN</td>\n",
       "    </tr>\n",
       "    <tr>\n",
       "      <th>2015-02-10 10:29:00</th>\n",
       "      <td>NaN</td>\n",
       "      <td>3.95</td>\n",
       "    </tr>\n",
       "    <tr>\n",
       "      <th>2015-02-10 14:05:00</th>\n",
       "      <td>NaN</td>\n",
       "      <td>25.80</td>\n",
       "    </tr>\n",
       "    <tr>\n",
       "      <th>2015-02-10 14:38:00</th>\n",
       "      <td>NaN</td>\n",
       "      <td>19.65</td>\n",
       "    </tr>\n",
       "    <tr>\n",
       "      <th>2015-02-10 16:39:00</th>\n",
       "      <td>NaN</td>\n",
       "      <td>24.80</td>\n",
       "    </tr>\n",
       "    <tr>\n",
       "      <th>2015-02-10 17:29:00</th>\n",
       "      <td>NaN</td>\n",
       "      <td>43.65</td>\n",
       "    </tr>\n",
       "  </tbody>\n",
       "</table>\n",
       "</div>"
      ],
      "text/plain": [
       "                        CA     CA\n",
       "Order Date                       \n",
       "2015-01-09 14:42:00   3.95    NaN\n",
       "2015-01-10 09:54:00  15.85    NaN\n",
       "2015-01-10 10:02:00  20.85    NaN\n",
       "2015-01-10 10:49:00   9.90    NaN\n",
       "2015-01-10 15:19:00  46.65    NaN\n",
       "2015-01-10 16:28:00   3.95    NaN\n",
       "2015-01-10 16:55:00   3.95    NaN\n",
       "2015-01-10 20:12:00   4.45    NaN\n",
       "2015-02-10 10:29:00    NaN   3.95\n",
       "2015-02-10 14:05:00    NaN  25.80\n",
       "2015-02-10 14:38:00    NaN  19.65\n",
       "2015-02-10 16:39:00    NaN  24.80\n",
       "2015-02-10 17:29:00    NaN  43.65"
      ]
     },
     "execution_count": 24,
     "metadata": {},
     "output_type": "execute_result"
    }
   ],
   "source": [
    "pivot_table1 = DFs[0].pivot_table(index=['Order Date'], values='CA', aggfunc='sum')\n",
    "pivot_table2 = DFs[1].pivot_table(index=['Order Date'], values='CA', aggfunc='sum')\n",
    "\n",
    "print(pivot_table1)\n",
    "print(pivot_table2)\n",
    "pd.concat([pivot_table1, pivot_table2], axis=1)"
   ]
  },
  {
   "cell_type": "code",
   "execution_count": 25,
   "id": "64a156aa",
   "metadata": {},
   "outputs": [],
   "source": [
    "# Agréger les données\n",
    "CA = []\n",
    "for i in range(len(DFs)):\n",
    "    CA.append(DFs[i].pivot_table(index=['Order Date'], values='CA', aggfunc='sum'))"
   ]
  },
  {
   "cell_type": "code",
   "execution_count": 36,
   "id": "43a382b4",
   "metadata": {},
   "outputs": [
    {
     "data": {
      "image/png": "[encoded data removed]",
      "text/plain": [
       "<Figure size 640x480 with 1 Axes>"
      ]
     },
     "metadata": {},
     "output_type": "display_data"
    }
   ],
   "source": [
    "CA[1]['CA'].plot.line()\n",
    "plt.show()\n"
   ]
  },
  {
   "cell_type": "code",
   "execution_count": null,
   "id": "75a16251",
   "metadata": {},
   "outputs": [],
   "source": []
  }
 ],
 "metadata": {
  "kernelspec": {
   "display_name": "Python 3 (ipykernel)",
   "language": "python",
   "name": "python3"
  },
  "language_info": {
   "codemirror_mode": {
    "name": "ipython",
    "version": 3
   },
   "file_extension": ".py",
   "mimetype": "text/x-python",
   "name": "python",
   "nbconvert_exporter": "python",
   "pygments_lexer": "ipython3",
   "version": "3.11.9"
  }
 },
 "nbformat": 4,
 "nbformat_minor": 5
}
